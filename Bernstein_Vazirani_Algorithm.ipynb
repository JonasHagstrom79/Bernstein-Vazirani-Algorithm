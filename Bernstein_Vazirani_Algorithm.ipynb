{
  "nbformat": 4,
  "nbformat_minor": 0,
  "metadata": {
    "colab": {
      "provenance": [],
      "gpuType": "T4",
      "authorship_tag": "ABX9TyN34rGDmyeNx0mMRPhcmoJU"
    },
    "kernelspec": {
      "name": "python3",
      "display_name": "Python 3"
    },
    "language_info": {
      "name": "python"
    },
    "accelerator": "GPU"
  },
  "cells": [
    {
      "cell_type": "code",
      "source": [
        "# Install the Qiskit and ipywidgets packages\n",
        "!pip install qiskit ipywidgets"
      ],
      "metadata": {
        "colab": {
          "base_uri": "https://localhost:8080/"
        },
        "id": "OKdX4aHWIhw_",
        "outputId": "c974a45b-4b07-40ad-ce0a-bb8ba1f6ba39"
      },
      "execution_count": 1,
      "outputs": [
        {
          "output_type": "stream",
          "name": "stdout",
          "text": [
            "Collecting qiskit\n",
            "  Downloading qiskit-0.45.1-py3-none-any.whl (9.6 kB)\n",
            "Requirement already satisfied: ipywidgets in /usr/local/lib/python3.10/dist-packages (7.7.1)\n",
            "Collecting qiskit-terra==0.45.1 (from qiskit)\n",
            "  Downloading qiskit_terra-0.45.1-cp38-abi3-manylinux_2_17_x86_64.manylinux2014_x86_64.whl (6.3 MB)\n",
            "\u001b[2K     \u001b[90m━━━━━━━━━━━━━━━━━━━━━━━━━━━━━━━━━━━━━━━━\u001b[0m \u001b[32m6.3/6.3 MB\u001b[0m \u001b[31m5.0 MB/s\u001b[0m eta \u001b[36m0:00:00\u001b[0m\n",
            "\u001b[?25hCollecting rustworkx>=0.13.0 (from qiskit-terra==0.45.1->qiskit)\n",
            "  Downloading rustworkx-0.13.2-cp310-cp310-manylinux_2_17_x86_64.manylinux2014_x86_64.whl (2.0 MB)\n",
            "\u001b[2K     \u001b[90m━━━━━━━━━━━━━━━━━━━━━━━━━━━━━━━━━━━━━━━━\u001b[0m \u001b[32m2.0/2.0 MB\u001b[0m \u001b[31m78.1 MB/s\u001b[0m eta \u001b[36m0:00:00\u001b[0m\n",
            "\u001b[?25hRequirement already satisfied: numpy<2,>=1.17 in /usr/local/lib/python3.10/dist-packages (from qiskit-terra==0.45.1->qiskit) (1.23.5)\n",
            "Collecting ply>=3.10 (from qiskit-terra==0.45.1->qiskit)\n",
            "  Downloading ply-3.11-py2.py3-none-any.whl (49 kB)\n",
            "\u001b[2K     \u001b[90m━━━━━━━━━━━━━━━━━━━━━━━━━━━━━━━━━━━━━━━━\u001b[0m \u001b[32m49.6/49.6 kB\u001b[0m \u001b[31m6.9 MB/s\u001b[0m eta \u001b[36m0:00:00\u001b[0m\n",
            "\u001b[?25hRequirement already satisfied: psutil>=5 in /usr/local/lib/python3.10/dist-packages (from qiskit-terra==0.45.1->qiskit) (5.9.5)\n",
            "Requirement already satisfied: scipy>=1.5 in /usr/local/lib/python3.10/dist-packages (from qiskit-terra==0.45.1->qiskit) (1.11.4)\n",
            "Requirement already satisfied: sympy>=1.3 in /usr/local/lib/python3.10/dist-packages (from qiskit-terra==0.45.1->qiskit) (1.12)\n",
            "Collecting dill>=0.3 (from qiskit-terra==0.45.1->qiskit)\n",
            "  Downloading dill-0.3.7-py3-none-any.whl (115 kB)\n",
            "\u001b[2K     \u001b[90m━━━━━━━━━━━━━━━━━━━━━━━━━━━━━━━━━━━━━━━━\u001b[0m \u001b[32m115.3/115.3 kB\u001b[0m \u001b[31m15.9 MB/s\u001b[0m eta \u001b[36m0:00:00\u001b[0m\n",
            "\u001b[?25hRequirement already satisfied: python-dateutil>=2.8.0 in /usr/local/lib/python3.10/dist-packages (from qiskit-terra==0.45.1->qiskit) (2.8.2)\n",
            "Collecting stevedore>=3.0.0 (from qiskit-terra==0.45.1->qiskit)\n",
            "  Downloading stevedore-5.1.0-py3-none-any.whl (49 kB)\n",
            "\u001b[2K     \u001b[90m━━━━━━━━━━━━━━━━━━━━━━━━━━━━━━━━━━━━━━━━\u001b[0m \u001b[32m49.6/49.6 kB\u001b[0m \u001b[31m4.4 MB/s\u001b[0m eta \u001b[36m0:00:00\u001b[0m\n",
            "\u001b[?25hCollecting symengine!=0.10.0,>=0.9 (from qiskit-terra==0.45.1->qiskit)\n",
            "  Downloading symengine-0.11.0-cp310-cp310-manylinux_2_12_x86_64.manylinux2010_x86_64.whl (39.4 MB)\n",
            "\u001b[2K     \u001b[90m━━━━━━━━━━━━━━━━━━━━━━━━━━━━━━━━━━━━━━━━\u001b[0m \u001b[32m39.4/39.4 MB\u001b[0m \u001b[31m6.0 MB/s\u001b[0m eta \u001b[36m0:00:00\u001b[0m\n",
            "\u001b[?25hRequirement already satisfied: typing-extensions in /usr/local/lib/python3.10/dist-packages (from qiskit-terra==0.45.1->qiskit) (4.5.0)\n",
            "Requirement already satisfied: ipykernel>=4.5.1 in /usr/local/lib/python3.10/dist-packages (from ipywidgets) (5.5.6)\n",
            "Requirement already satisfied: ipython-genutils~=0.2.0 in /usr/local/lib/python3.10/dist-packages (from ipywidgets) (0.2.0)\n",
            "Requirement already satisfied: traitlets>=4.3.1 in /usr/local/lib/python3.10/dist-packages (from ipywidgets) (5.7.1)\n",
            "Requirement already satisfied: widgetsnbextension~=3.6.0 in /usr/local/lib/python3.10/dist-packages (from ipywidgets) (3.6.6)\n",
            "Requirement already satisfied: ipython>=4.0.0 in /usr/local/lib/python3.10/dist-packages (from ipywidgets) (7.34.0)\n",
            "Requirement already satisfied: jupyterlab-widgets>=1.0.0 in /usr/local/lib/python3.10/dist-packages (from ipywidgets) (3.0.9)\n",
            "Requirement already satisfied: jupyter-client in /usr/local/lib/python3.10/dist-packages (from ipykernel>=4.5.1->ipywidgets) (6.1.12)\n",
            "Requirement already satisfied: tornado>=4.2 in /usr/local/lib/python3.10/dist-packages (from ipykernel>=4.5.1->ipywidgets) (6.3.2)\n",
            "Requirement already satisfied: setuptools>=18.5 in /usr/local/lib/python3.10/dist-packages (from ipython>=4.0.0->ipywidgets) (67.7.2)\n",
            "Collecting jedi>=0.16 (from ipython>=4.0.0->ipywidgets)\n",
            "  Downloading jedi-0.19.1-py2.py3-none-any.whl (1.6 MB)\n",
            "\u001b[2K     \u001b[90m━━━━━━━━━━━━━━━━━━━━━━━━━━━━━━━━━━━━━━━━\u001b[0m \u001b[32m1.6/1.6 MB\u001b[0m \u001b[31m88.8 MB/s\u001b[0m eta \u001b[36m0:00:00\u001b[0m\n",
            "\u001b[?25hRequirement already satisfied: decorator in /usr/local/lib/python3.10/dist-packages (from ipython>=4.0.0->ipywidgets) (4.4.2)\n",
            "Requirement already satisfied: pickleshare in /usr/local/lib/python3.10/dist-packages (from ipython>=4.0.0->ipywidgets) (0.7.5)\n",
            "Requirement already satisfied: prompt-toolkit!=3.0.0,!=3.0.1,<3.1.0,>=2.0.0 in /usr/local/lib/python3.10/dist-packages (from ipython>=4.0.0->ipywidgets) (3.0.41)\n",
            "Requirement already satisfied: pygments in /usr/local/lib/python3.10/dist-packages (from ipython>=4.0.0->ipywidgets) (2.16.1)\n",
            "Requirement already satisfied: backcall in /usr/local/lib/python3.10/dist-packages (from ipython>=4.0.0->ipywidgets) (0.2.0)\n",
            "Requirement already satisfied: matplotlib-inline in /usr/local/lib/python3.10/dist-packages (from ipython>=4.0.0->ipywidgets) (0.1.6)\n",
            "Requirement already satisfied: pexpect>4.3 in /usr/local/lib/python3.10/dist-packages (from ipython>=4.0.0->ipywidgets) (4.9.0)\n",
            "Requirement already satisfied: notebook>=4.4.1 in /usr/local/lib/python3.10/dist-packages (from widgetsnbextension~=3.6.0->ipywidgets) (6.5.5)\n",
            "Requirement already satisfied: parso<0.9.0,>=0.8.3 in /usr/local/lib/python3.10/dist-packages (from jedi>=0.16->ipython>=4.0.0->ipywidgets) (0.8.3)\n",
            "Requirement already satisfied: jinja2 in /usr/local/lib/python3.10/dist-packages (from notebook>=4.4.1->widgetsnbextension~=3.6.0->ipywidgets) (3.1.2)\n",
            "Requirement already satisfied: pyzmq<25,>=17 in /usr/local/lib/python3.10/dist-packages (from notebook>=4.4.1->widgetsnbextension~=3.6.0->ipywidgets) (23.2.1)\n",
            "Requirement already satisfied: argon2-cffi in /usr/local/lib/python3.10/dist-packages (from notebook>=4.4.1->widgetsnbextension~=3.6.0->ipywidgets) (23.1.0)\n",
            "Requirement already satisfied: jupyter-core>=4.6.1 in /usr/local/lib/python3.10/dist-packages (from notebook>=4.4.1->widgetsnbextension~=3.6.0->ipywidgets) (5.5.0)\n",
            "Requirement already satisfied: nbformat in /usr/local/lib/python3.10/dist-packages (from notebook>=4.4.1->widgetsnbextension~=3.6.0->ipywidgets) (5.9.2)\n",
            "Requirement already satisfied: nbconvert>=5 in /usr/local/lib/python3.10/dist-packages (from notebook>=4.4.1->widgetsnbextension~=3.6.0->ipywidgets) (6.5.4)\n",
            "Requirement already satisfied: nest-asyncio>=1.5 in /usr/local/lib/python3.10/dist-packages (from notebook>=4.4.1->widgetsnbextension~=3.6.0->ipywidgets) (1.5.8)\n",
            "Requirement already satisfied: Send2Trash>=1.8.0 in /usr/local/lib/python3.10/dist-packages (from notebook>=4.4.1->widgetsnbextension~=3.6.0->ipywidgets) (1.8.2)\n",
            "Requirement already satisfied: terminado>=0.8.3 in /usr/local/lib/python3.10/dist-packages (from notebook>=4.4.1->widgetsnbextension~=3.6.0->ipywidgets) (0.18.0)\n",
            "Requirement already satisfied: prometheus-client in /usr/local/lib/python3.10/dist-packages (from notebook>=4.4.1->widgetsnbextension~=3.6.0->ipywidgets) (0.19.0)\n",
            "Requirement already satisfied: nbclassic>=0.4.7 in /usr/local/lib/python3.10/dist-packages (from notebook>=4.4.1->widgetsnbextension~=3.6.0->ipywidgets) (1.0.0)\n",
            "Requirement already satisfied: ptyprocess>=0.5 in /usr/local/lib/python3.10/dist-packages (from pexpect>4.3->ipython>=4.0.0->ipywidgets) (0.7.0)\n",
            "Requirement already satisfied: wcwidth in /usr/local/lib/python3.10/dist-packages (from prompt-toolkit!=3.0.0,!=3.0.1,<3.1.0,>=2.0.0->ipython>=4.0.0->ipywidgets) (0.2.12)\n",
            "Requirement already satisfied: six>=1.5 in /usr/local/lib/python3.10/dist-packages (from python-dateutil>=2.8.0->qiskit-terra==0.45.1->qiskit) (1.16.0)\n",
            "Collecting pbr!=2.1.0,>=2.0.0 (from stevedore>=3.0.0->qiskit-terra==0.45.1->qiskit)\n",
            "  Downloading pbr-6.0.0-py2.py3-none-any.whl (107 kB)\n",
            "\u001b[2K     \u001b[90m━━━━━━━━━━━━━━━━━━━━━━━━━━━━━━━━━━━━━━━━\u001b[0m \u001b[32m107.5/107.5 kB\u001b[0m \u001b[31m16.4 MB/s\u001b[0m eta \u001b[36m0:00:00\u001b[0m\n",
            "\u001b[?25hRequirement already satisfied: mpmath>=0.19 in /usr/local/lib/python3.10/dist-packages (from sympy>=1.3->qiskit-terra==0.45.1->qiskit) (1.3.0)\n",
            "Requirement already satisfied: platformdirs>=2.5 in /usr/local/lib/python3.10/dist-packages (from jupyter-core>=4.6.1->notebook>=4.4.1->widgetsnbextension~=3.6.0->ipywidgets) (4.0.0)\n",
            "Requirement already satisfied: jupyter-server>=1.8 in /usr/local/lib/python3.10/dist-packages (from nbclassic>=0.4.7->notebook>=4.4.1->widgetsnbextension~=3.6.0->ipywidgets) (1.24.0)\n",
            "Requirement already satisfied: notebook-shim>=0.2.3 in /usr/local/lib/python3.10/dist-packages (from nbclassic>=0.4.7->notebook>=4.4.1->widgetsnbextension~=3.6.0->ipywidgets) (0.2.3)\n",
            "Requirement already satisfied: lxml in /usr/local/lib/python3.10/dist-packages (from nbconvert>=5->notebook>=4.4.1->widgetsnbextension~=3.6.0->ipywidgets) (4.9.3)\n",
            "Requirement already satisfied: beautifulsoup4 in /usr/local/lib/python3.10/dist-packages (from nbconvert>=5->notebook>=4.4.1->widgetsnbextension~=3.6.0->ipywidgets) (4.11.2)\n",
            "Requirement already satisfied: bleach in /usr/local/lib/python3.10/dist-packages (from nbconvert>=5->notebook>=4.4.1->widgetsnbextension~=3.6.0->ipywidgets) (6.1.0)\n",
            "Requirement already satisfied: defusedxml in /usr/local/lib/python3.10/dist-packages (from nbconvert>=5->notebook>=4.4.1->widgetsnbextension~=3.6.0->ipywidgets) (0.7.1)\n",
            "Requirement already satisfied: entrypoints>=0.2.2 in /usr/local/lib/python3.10/dist-packages (from nbconvert>=5->notebook>=4.4.1->widgetsnbextension~=3.6.0->ipywidgets) (0.4)\n",
            "Requirement already satisfied: jupyterlab-pygments in /usr/local/lib/python3.10/dist-packages (from nbconvert>=5->notebook>=4.4.1->widgetsnbextension~=3.6.0->ipywidgets) (0.3.0)\n",
            "Requirement already satisfied: MarkupSafe>=2.0 in /usr/local/lib/python3.10/dist-packages (from nbconvert>=5->notebook>=4.4.1->widgetsnbextension~=3.6.0->ipywidgets) (2.1.3)\n",
            "Requirement already satisfied: mistune<2,>=0.8.1 in /usr/local/lib/python3.10/dist-packages (from nbconvert>=5->notebook>=4.4.1->widgetsnbextension~=3.6.0->ipywidgets) (0.8.4)\n",
            "Requirement already satisfied: nbclient>=0.5.0 in /usr/local/lib/python3.10/dist-packages (from nbconvert>=5->notebook>=4.4.1->widgetsnbextension~=3.6.0->ipywidgets) (0.9.0)\n",
            "Requirement already satisfied: packaging in /usr/local/lib/python3.10/dist-packages (from nbconvert>=5->notebook>=4.4.1->widgetsnbextension~=3.6.0->ipywidgets) (23.2)\n",
            "Requirement already satisfied: pandocfilters>=1.4.1 in /usr/local/lib/python3.10/dist-packages (from nbconvert>=5->notebook>=4.4.1->widgetsnbextension~=3.6.0->ipywidgets) (1.5.0)\n",
            "Requirement already satisfied: tinycss2 in /usr/local/lib/python3.10/dist-packages (from nbconvert>=5->notebook>=4.4.1->widgetsnbextension~=3.6.0->ipywidgets) (1.2.1)\n",
            "Requirement already satisfied: fastjsonschema in /usr/local/lib/python3.10/dist-packages (from nbformat->notebook>=4.4.1->widgetsnbextension~=3.6.0->ipywidgets) (2.19.0)\n",
            "Requirement already satisfied: jsonschema>=2.6 in /usr/local/lib/python3.10/dist-packages (from nbformat->notebook>=4.4.1->widgetsnbextension~=3.6.0->ipywidgets) (4.19.2)\n",
            "Requirement already satisfied: argon2-cffi-bindings in /usr/local/lib/python3.10/dist-packages (from argon2-cffi->notebook>=4.4.1->widgetsnbextension~=3.6.0->ipywidgets) (21.2.0)\n",
            "Requirement already satisfied: attrs>=22.2.0 in /usr/local/lib/python3.10/dist-packages (from jsonschema>=2.6->nbformat->notebook>=4.4.1->widgetsnbextension~=3.6.0->ipywidgets) (23.1.0)\n",
            "Requirement already satisfied: jsonschema-specifications>=2023.03.6 in /usr/local/lib/python3.10/dist-packages (from jsonschema>=2.6->nbformat->notebook>=4.4.1->widgetsnbextension~=3.6.0->ipywidgets) (2023.11.2)\n",
            "Requirement already satisfied: referencing>=0.28.4 in /usr/local/lib/python3.10/dist-packages (from jsonschema>=2.6->nbformat->notebook>=4.4.1->widgetsnbextension~=3.6.0->ipywidgets) (0.31.1)\n",
            "Requirement already satisfied: rpds-py>=0.7.1 in /usr/local/lib/python3.10/dist-packages (from jsonschema>=2.6->nbformat->notebook>=4.4.1->widgetsnbextension~=3.6.0->ipywidgets) (0.13.2)\n",
            "Requirement already satisfied: anyio<4,>=3.1.0 in /usr/local/lib/python3.10/dist-packages (from jupyter-server>=1.8->nbclassic>=0.4.7->notebook>=4.4.1->widgetsnbextension~=3.6.0->ipywidgets) (3.7.1)\n",
            "Requirement already satisfied: websocket-client in /usr/local/lib/python3.10/dist-packages (from jupyter-server>=1.8->nbclassic>=0.4.7->notebook>=4.4.1->widgetsnbextension~=3.6.0->ipywidgets) (1.6.4)\n",
            "Requirement already satisfied: cffi>=1.0.1 in /usr/local/lib/python3.10/dist-packages (from argon2-cffi-bindings->argon2-cffi->notebook>=4.4.1->widgetsnbextension~=3.6.0->ipywidgets) (1.16.0)\n",
            "Requirement already satisfied: soupsieve>1.2 in /usr/local/lib/python3.10/dist-packages (from beautifulsoup4->nbconvert>=5->notebook>=4.4.1->widgetsnbextension~=3.6.0->ipywidgets) (2.5)\n",
            "Requirement already satisfied: webencodings in /usr/local/lib/python3.10/dist-packages (from bleach->nbconvert>=5->notebook>=4.4.1->widgetsnbextension~=3.6.0->ipywidgets) (0.5.1)\n",
            "Requirement already satisfied: idna>=2.8 in /usr/local/lib/python3.10/dist-packages (from anyio<4,>=3.1.0->jupyter-server>=1.8->nbclassic>=0.4.7->notebook>=4.4.1->widgetsnbextension~=3.6.0->ipywidgets) (3.6)\n",
            "Requirement already satisfied: sniffio>=1.1 in /usr/local/lib/python3.10/dist-packages (from anyio<4,>=3.1.0->jupyter-server>=1.8->nbclassic>=0.4.7->notebook>=4.4.1->widgetsnbextension~=3.6.0->ipywidgets) (1.3.0)\n",
            "Requirement already satisfied: exceptiongroup in /usr/local/lib/python3.10/dist-packages (from anyio<4,>=3.1.0->jupyter-server>=1.8->nbclassic>=0.4.7->notebook>=4.4.1->widgetsnbextension~=3.6.0->ipywidgets) (1.2.0)\n",
            "Requirement already satisfied: pycparser in /usr/local/lib/python3.10/dist-packages (from cffi>=1.0.1->argon2-cffi-bindings->argon2-cffi->notebook>=4.4.1->widgetsnbextension~=3.6.0->ipywidgets) (2.21)\n",
            "Installing collected packages: ply, symengine, rustworkx, pbr, jedi, dill, stevedore, qiskit-terra, qiskit\n",
            "Successfully installed dill-0.3.7 jedi-0.19.1 pbr-6.0.0 ply-3.11 qiskit-0.45.1 qiskit-terra-0.45.1 rustworkx-0.13.2 stevedore-5.1.0 symengine-0.11.0\n"
          ]
        }
      ]
    },
    {
      "cell_type": "code",
      "source": [
        "# Install the Qiskit package, which includes the QuantumCircuit module\n",
        "!pip install QuantumCircuit"
      ],
      "metadata": {
        "colab": {
          "base_uri": "https://localhost:8080/"
        },
        "id": "qQccgVgKHUKm",
        "outputId": "cbd164a6-4178-4144-81a9-415223c2f789"
      },
      "execution_count": 2,
      "outputs": [
        {
          "output_type": "stream",
          "name": "stdout",
          "text": [
            "\u001b[31mERROR: Could not find a version that satisfies the requirement QuantumCircuit (from versions: none)\u001b[0m\u001b[31m\n",
            "\u001b[0m\u001b[31mERROR: No matching distribution found for QuantumCircuit\u001b[0m\u001b[31m\n",
            "\u001b[0m"
          ]
        }
      ]
    },
    {
      "cell_type": "code",
      "source": [
        "# Install the Qiskit Aer package for quantum circuit simulation\n",
        "!pip install qiskit-aer"
      ],
      "metadata": {
        "colab": {
          "base_uri": "https://localhost:8080/"
        },
        "id": "bWmGfBarHjsW",
        "outputId": "4f5e7481-3eff-453c-fd4c-d6b814ad176f"
      },
      "execution_count": 3,
      "outputs": [
        {
          "output_type": "stream",
          "name": "stdout",
          "text": [
            "Collecting qiskit-aer\n",
            "  Downloading qiskit_aer-0.13.1-cp310-cp310-manylinux_2_17_x86_64.manylinux2014_x86_64.whl (12.3 MB)\n",
            "\u001b[2K     \u001b[90m━━━━━━━━━━━━━━━━━━━━━━━━━━━━━━━━━━━━━━━━\u001b[0m \u001b[32m12.3/12.3 MB\u001b[0m \u001b[31m5.0 MB/s\u001b[0m eta \u001b[36m0:00:00\u001b[0m\n",
            "\u001b[?25hRequirement already satisfied: qiskit>=0.44.0 in /usr/local/lib/python3.10/dist-packages (from qiskit-aer) (0.45.1)\n",
            "Requirement already satisfied: numpy>=1.16.3 in /usr/local/lib/python3.10/dist-packages (from qiskit-aer) (1.23.5)\n",
            "Requirement already satisfied: scipy>=1.0 in /usr/local/lib/python3.10/dist-packages (from qiskit-aer) (1.11.4)\n",
            "Requirement already satisfied: psutil>=5 in /usr/local/lib/python3.10/dist-packages (from qiskit-aer) (5.9.5)\n",
            "Requirement already satisfied: qiskit-terra==0.45.1 in /usr/local/lib/python3.10/dist-packages (from qiskit>=0.44.0->qiskit-aer) (0.45.1)\n",
            "Requirement already satisfied: rustworkx>=0.13.0 in /usr/local/lib/python3.10/dist-packages (from qiskit-terra==0.45.1->qiskit>=0.44.0->qiskit-aer) (0.13.2)\n",
            "Requirement already satisfied: ply>=3.10 in /usr/local/lib/python3.10/dist-packages (from qiskit-terra==0.45.1->qiskit>=0.44.0->qiskit-aer) (3.11)\n",
            "Requirement already satisfied: sympy>=1.3 in /usr/local/lib/python3.10/dist-packages (from qiskit-terra==0.45.1->qiskit>=0.44.0->qiskit-aer) (1.12)\n",
            "Requirement already satisfied: dill>=0.3 in /usr/local/lib/python3.10/dist-packages (from qiskit-terra==0.45.1->qiskit>=0.44.0->qiskit-aer) (0.3.7)\n",
            "Requirement already satisfied: python-dateutil>=2.8.0 in /usr/local/lib/python3.10/dist-packages (from qiskit-terra==0.45.1->qiskit>=0.44.0->qiskit-aer) (2.8.2)\n",
            "Requirement already satisfied: stevedore>=3.0.0 in /usr/local/lib/python3.10/dist-packages (from qiskit-terra==0.45.1->qiskit>=0.44.0->qiskit-aer) (5.1.0)\n",
            "Requirement already satisfied: symengine!=0.10.0,>=0.9 in /usr/local/lib/python3.10/dist-packages (from qiskit-terra==0.45.1->qiskit>=0.44.0->qiskit-aer) (0.11.0)\n",
            "Requirement already satisfied: typing-extensions in /usr/local/lib/python3.10/dist-packages (from qiskit-terra==0.45.1->qiskit>=0.44.0->qiskit-aer) (4.5.0)\n",
            "Requirement already satisfied: six>=1.5 in /usr/local/lib/python3.10/dist-packages (from python-dateutil>=2.8.0->qiskit-terra==0.45.1->qiskit>=0.44.0->qiskit-aer) (1.16.0)\n",
            "Requirement already satisfied: pbr!=2.1.0,>=2.0.0 in /usr/local/lib/python3.10/dist-packages (from stevedore>=3.0.0->qiskit-terra==0.45.1->qiskit>=0.44.0->qiskit-aer) (6.0.0)\n",
            "Requirement already satisfied: mpmath>=0.19 in /usr/local/lib/python3.10/dist-packages (from sympy>=1.3->qiskit-terra==0.45.1->qiskit>=0.44.0->qiskit-aer) (1.3.0)\n",
            "Installing collected packages: qiskit-aer\n",
            "Successfully installed qiskit-aer-0.13.1\n"
          ]
        }
      ]
    },
    {
      "cell_type": "markdown",
      "source": [
        "This code snippet installs the Qiskit Aer package, which provides a high-performance simulator for quantum circuits written in Qiskit. Qiskit Aer incorporates realistic noise models to accurately simulate the behavior of quantum circuits on real quantum hardware.\n",
        "\n",
        "By installing Qiskit Aer, you gain access to the following capabilities:\n",
        "\n",
        "    Simulate quantum circuits with noise: Qiskit Aer allows you to simulate quantum circuits with realistic noise models, taking into account the limitations and imperfections of real quantum hardware.\n",
        "\n",
        "    Analyze circuit performance: You can analyze the performance of your quantum circuits by evaluating their output under various noise conditions. This helps you identify potential errors and optimize circuit design for improved accuracy.\n",
        "\n",
        "    Develop and test quantum algorithms: Qiskit Aer provides a valuable tool for developing and testing quantum algorithms without requiring access to actual quantum hardware. This facilitates faster iteration and refinement of quantum algorithms.\n",
        "\n",
        "Installing Qiskit Aer is essential for anyone working with quantum circuits and algorithms, as it enables the simulation and analysis of quantum behavior in a realistic and controlled environment."
      ],
      "metadata": {
        "id": "Iejhiq442-1h"
      }
    },
    {
      "cell_type": "code",
      "execution_count": 4,
      "metadata": {
        "id": "fGxMPYMjGAAn"
      },
      "outputs": [],
      "source": [
        "# Import qiskit\n",
        "from qiskit import *\n",
        "%matplotlib inline\n",
        "from qiskit.tools.visualization import plot_histogram"
      ]
    },
    {
      "cell_type": "code",
      "source": [
        "# Sets the value for secret number\n",
        "secretnumber = '110010100011101010'"
      ],
      "metadata": {
        "id": "Sp2xOUA5GN1W"
      },
      "execution_count": 5,
      "outputs": []
    },
    {
      "cell_type": "code",
      "source": [
        "# Define a quantum circuit with the specified number of qubits\n",
        "circuit = QuantumCircuit(len(secretnumber)+1, len(secretnumber))\n",
        "\n",
        "# Prepare the qubits in a superposition state\n",
        "circuit.h(range(len(secretnumber)))\n",
        "\n",
        "# Apply a Hadamard gate to the control qubit\n",
        "circuit.x(len(secretnumber))\n",
        "\n",
        "# Apply another Hadamard gate to the control qubit\n",
        "circuit.h(len(secretnumber))\n",
        "\n",
        "# Insert a barrier to separate operations\n",
        "circuit.barrier()\n",
        "\n",
        "# Iterate through the secret number in reverse order\n",
        "for ii, yesno in enumerate(reversed(secretnumber)):\n",
        "    # If the current bit is a '1', apply a CNOT gate to entangle it with the control qubit\n",
        "    if yesno == '1':\n",
        "        circuit.cx(ii, len(secretnumber))\n",
        "\n",
        "# Insert another barrier to separate operations\n",
        "circuit.barrier()\n",
        "\n",
        "# Apply Hadamard gates to the qubits again\n",
        "circuit.h(range(len(secretnumber)))\n",
        "\n",
        "# Insert a final barrier before measurement\n",
        "circuit.barrier()\n",
        "\n",
        "# Measure all qubits and store the results in the corresponding classical bits\n",
        "circuit.measure(range(len(secretnumber)), range(len(secretnumber)))"
      ],
      "metadata": {
        "colab": {
          "base_uri": "https://localhost:8080/"
        },
        "id": "vZPU1mG2GPj2",
        "outputId": "b575e94c-61be-4aca-a92f-75ea34ee259c"
      },
      "execution_count": 6,
      "outputs": [
        {
          "output_type": "execute_result",
          "data": {
            "text/plain": [
              "<qiskit.circuit.instructionset.InstructionSet at 0x7e74a8b93160>"
            ]
          },
          "metadata": {},
          "execution_count": 6
        }
      ]
    },
    {
      "cell_type": "markdown",
      "source": [
        "This code defines and implements a quantum circuit designed to encode a secret number using quantum superpositions and entanglements. The circuit consists of several key steps:\n",
        "\n",
        "    Qubit Preparation: The circuit begins by preparing all qubits in a superposition state using Hadamard gates. This puts the qubits in a combination of both 0 and 1 states, allowing them to represent multiple values simultaneously.\n",
        "\n",
        "    Entanglement: The control qubit is entangled with the data qubits using controlled-NOT (CNOT) gates. The CNOT gate flips the state of the target qubit only if the control qubit is in the 1 state. This entangles the qubits, creating a correlation between their states.\n",
        "\n",
        "    Hadamard Gates: Hadamard gates are applied again to the data qubits. This further amplifies the superposition of the data qubits, effectively encoding the secret number in the combined state of the quantum system.\n",
        "\n",
        "    Measurement: Finally, the circuit measures the state of each qubit and stores the result in a corresponding classical bit. This process extracts the encoded secret number from the quantum state.\n",
        "\n",
        "This quantum circuit demonstrates the power of quantum superpositions and entanglements to encode and process information in a way that is fundamentally different from classical computing."
      ],
      "metadata": {
        "id": "02aUJ9SG2xsc"
      }
    },
    {
      "cell_type": "code",
      "source": [
        "# Draw the circuit\n",
        "print(circuit)"
      ],
      "metadata": {
        "colab": {
          "base_uri": "https://localhost:8080/"
        },
        "id": "E76pcIyeGShQ",
        "outputId": "befb9ccb-20c7-431a-90a0-c5b4dacf410c"
      },
      "execution_count": 7,
      "outputs": [
        {
          "output_type": "stream",
          "name": "stdout",
          "text": [
            "      ┌───┐      ░                                               ░ ┌───┐ ░ ┌─┐»\n",
            " q_0: ┤ H ├──────░───────────────────────────────────────────────░─┤ H ├─░─┤M├»\n",
            "      ├───┤      ░                                               ░ ├───┤ ░ └╥┘»\n",
            " q_1: ┤ H ├──────░───■───────────────────────────────────────────░─┤ H ├─░──╫─»\n",
            "      ├───┤      ░   │                                           ░ ├───┤ ░  ║ »\n",
            " q_2: ┤ H ├──────░───┼───────────────────────────────────────────░─┤ H ├─░──╫─»\n",
            "      ├───┤      ░   │                                           ░ ├───┤ ░  ║ »\n",
            " q_3: ┤ H ├──────░───┼────■──────────────────────────────────────░─┤ H ├─░──╫─»\n",
            "      ├───┤      ░   │    │                                      ░ ├───┤ ░  ║ »\n",
            " q_4: ┤ H ├──────░───┼────┼──────────────────────────────────────░─┤ H ├─░──╫─»\n",
            "      ├───┤      ░   │    │                                      ░ ├───┤ ░  ║ »\n",
            " q_5: ┤ H ├──────░───┼────┼────■─────────────────────────────────░─┤ H ├─░──╫─»\n",
            "      ├───┤      ░   │    │    │                                 ░ ├───┤ ░  ║ »\n",
            " q_6: ┤ H ├──────░───┼────┼────┼────■────────────────────────────░─┤ H ├─░──╫─»\n",
            "      ├───┤      ░   │    │    │    │                            ░ ├───┤ ░  ║ »\n",
            " q_7: ┤ H ├──────░───┼────┼────┼────┼────■───────────────────────░─┤ H ├─░──╫─»\n",
            "      ├───┤      ░   │    │    │    │    │                       ░ ├───┤ ░  ║ »\n",
            " q_8: ┤ H ├──────░───┼────┼────┼────┼────┼───────────────────────░─┤ H ├─░──╫─»\n",
            "      ├───┤      ░   │    │    │    │    │                       ░ ├───┤ ░  ║ »\n",
            " q_9: ┤ H ├──────░───┼────┼────┼────┼────┼───────────────────────░─┤ H ├─░──╫─»\n",
            "      ├───┤      ░   │    │    │    │    │                       ░ ├───┤ ░  ║ »\n",
            "q_10: ┤ H ├──────░───┼────┼────┼────┼────┼───────────────────────░─┤ H ├─░──╫─»\n",
            "      ├───┤      ░   │    │    │    │    │                       ░ ├───┤ ░  ║ »\n",
            "q_11: ┤ H ├──────░───┼────┼────┼────┼────┼────■──────────────────░─┤ H ├─░──╫─»\n",
            "      ├───┤      ░   │    │    │    │    │    │                  ░ ├───┤ ░  ║ »\n",
            "q_12: ┤ H ├──────░───┼────┼────┼────┼────┼────┼──────────────────░─┤ H ├─░──╫─»\n",
            "      ├───┤      ░   │    │    │    │    │    │                  ░ ├───┤ ░  ║ »\n",
            "q_13: ┤ H ├──────░───┼────┼────┼────┼────┼────┼────■─────────────░─┤ H ├─░──╫─»\n",
            "      ├───┤      ░   │    │    │    │    │    │    │             ░ ├───┤ ░  ║ »\n",
            "q_14: ┤ H ├──────░───┼────┼────┼────┼────┼────┼────┼─────────────░─┤ H ├─░──╫─»\n",
            "      ├───┤      ░   │    │    │    │    │    │    │             ░ ├───┤ ░  ║ »\n",
            "q_15: ┤ H ├──────░───┼────┼────┼────┼────┼────┼────┼─────────────░─┤ H ├─░──╫─»\n",
            "      ├───┤      ░   │    │    │    │    │    │    │             ░ ├───┤ ░  ║ »\n",
            "q_16: ┤ H ├──────░───┼────┼────┼────┼────┼────┼────┼────■────────░─┤ H ├─░──╫─»\n",
            "      ├───┤      ░   │    │    │    │    │    │    │    │        ░ ├───┤ ░  ║ »\n",
            "q_17: ┤ H ├──────░───┼────┼────┼────┼────┼────┼────┼────┼────■───░─┤ H ├─░──╫─»\n",
            "      ├───┤┌───┐ ░ ┌─┴─┐┌─┴─┐┌─┴─┐┌─┴─┐┌─┴─┐┌─┴─┐┌─┴─┐┌─┴─┐┌─┴─┐ ░ └───┘ ░  ║ »\n",
            "q_18: ┤ X ├┤ H ├─░─┤ X ├┤ X ├┤ X ├┤ X ├┤ X ├┤ X ├┤ X ├┤ X ├┤ X ├─░───────░──╫─»\n",
            "      └───┘└───┘ ░ └───┘└───┘└───┘└───┘└───┘└───┘└───┘└───┘└───┘ ░       ░  ║ »\n",
            "c: 18/══════════════════════════════════════════════════════════════════════╩═»\n",
            "                                                                            0 »\n",
            "«                                                         \n",
            "« q_0: ───────────────────────────────────────────────────\n",
            "«      ┌─┐                                                \n",
            "« q_1: ┤M├────────────────────────────────────────────────\n",
            "«      └╥┘┌─┐                                             \n",
            "« q_2: ─╫─┤M├─────────────────────────────────────────────\n",
            "«       ║ └╥┘┌─┐                                          \n",
            "« q_3: ─╫──╫─┤M├──────────────────────────────────────────\n",
            "«       ║  ║ └╥┘┌─┐                                       \n",
            "« q_4: ─╫──╫──╫─┤M├───────────────────────────────────────\n",
            "«       ║  ║  ║ └╥┘┌─┐                                    \n",
            "« q_5: ─╫──╫──╫──╫─┤M├────────────────────────────────────\n",
            "«       ║  ║  ║  ║ └╥┘┌─┐                                 \n",
            "« q_6: ─╫──╫──╫──╫──╫─┤M├─────────────────────────────────\n",
            "«       ║  ║  ║  ║  ║ └╥┘┌─┐                              \n",
            "« q_7: ─╫──╫──╫──╫──╫──╫─┤M├──────────────────────────────\n",
            "«       ║  ║  ║  ║  ║  ║ └╥┘┌─┐                           \n",
            "« q_8: ─╫──╫──╫──╫──╫──╫──╫─┤M├───────────────────────────\n",
            "«       ║  ║  ║  ║  ║  ║  ║ └╥┘┌─┐                        \n",
            "« q_9: ─╫──╫──╫──╫──╫──╫──╫──╫─┤M├────────────────────────\n",
            "«       ║  ║  ║  ║  ║  ║  ║  ║ └╥┘┌─┐                     \n",
            "«q_10: ─╫──╫──╫──╫──╫──╫──╫──╫──╫─┤M├─────────────────────\n",
            "«       ║  ║  ║  ║  ║  ║  ║  ║  ║ └╥┘┌─┐                  \n",
            "«q_11: ─╫──╫──╫──╫──╫──╫──╫──╫──╫──╫─┤M├──────────────────\n",
            "«       ║  ║  ║  ║  ║  ║  ║  ║  ║  ║ └╥┘┌─┐               \n",
            "«q_12: ─╫──╫──╫──╫──╫──╫──╫──╫──╫──╫──╫─┤M├───────────────\n",
            "«       ║  ║  ║  ║  ║  ║  ║  ║  ║  ║  ║ └╥┘┌─┐            \n",
            "«q_13: ─╫──╫──╫──╫──╫──╫──╫──╫──╫──╫──╫──╫─┤M├────────────\n",
            "«       ║  ║  ║  ║  ║  ║  ║  ║  ║  ║  ║  ║ └╥┘┌─┐         \n",
            "«q_14: ─╫──╫──╫──╫──╫──╫──╫──╫──╫──╫──╫──╫──╫─┤M├─────────\n",
            "«       ║  ║  ║  ║  ║  ║  ║  ║  ║  ║  ║  ║  ║ └╥┘┌─┐      \n",
            "«q_15: ─╫──╫──╫──╫──╫──╫──╫──╫──╫──╫──╫──╫──╫──╫─┤M├──────\n",
            "«       ║  ║  ║  ║  ║  ║  ║  ║  ║  ║  ║  ║  ║  ║ └╥┘┌─┐   \n",
            "«q_16: ─╫──╫──╫──╫──╫──╫──╫──╫──╫──╫──╫──╫──╫──╫──╫─┤M├───\n",
            "«       ║  ║  ║  ║  ║  ║  ║  ║  ║  ║  ║  ║  ║  ║  ║ └╥┘┌─┐\n",
            "«q_17: ─╫──╫──╫──╫──╫──╫──╫──╫──╫──╫──╫──╫──╫──╫──╫──╫─┤M├\n",
            "«       ║  ║  ║  ║  ║  ║  ║  ║  ║  ║  ║  ║  ║  ║  ║  ║ └╥┘\n",
            "«q_18: ─╫──╫──╫──╫──╫──╫──╫──╫──╫──╫──╫──╫──╫──╫──╫──╫──╫─\n",
            "«       ║  ║  ║  ║  ║  ║  ║  ║  ║  ║  ║  ║  ║  ║  ║  ║  ║ \n",
            "«c: 18/═╩══╩══╩══╩══╩══╩══╩══╩══╩══╩══╩══╩══╩══╩══╩══╩══╩═\n",
            "«       1  2  3  4  5  6  7  8  9  10 11 12 13 14 15 16 17\n"
          ]
        }
      ]
    },
    {
      "cell_type": "markdown",
      "source": [
        "This code snippet generates a visual representation of the quantum circuit using the print(circuit) statement. This visualization helps in understanding the structure of the circuit, the placement of gates, and the flow of information between qubits"
      ],
      "metadata": {
        "id": "ySoBffKv367L"
      }
    },
    {
      "cell_type": "code",
      "source": [
        "# Create a simulator backend for executing the quantum circuit\n",
        "simulator = Aer.get_backend('qasm_simulator')\n",
        "\n",
        "# Execute the circuit on the simulator, generating 1 sample\n",
        "result = execute(circuit, backend = simulator, shots = 1).result()\n",
        "\n",
        "# Extract the measurement counts from the simulation result\n",
        "counts = result.get_counts()\n",
        "\n",
        "# Print the measurement counts to the console\n",
        "print(counts)"
      ],
      "metadata": {
        "colab": {
          "base_uri": "https://localhost:8080/"
        },
        "id": "kKYeBbMdGYXQ",
        "outputId": "dae4d3fb-c64b-4195-f998-6e07da0c5807"
      },
      "execution_count": 8,
      "outputs": [
        {
          "output_type": "stream",
          "name": "stdout",
          "text": [
            "{'110010100011101010': 1}\n"
          ]
        }
      ]
    },
    {
      "cell_type": "markdown",
      "source": [
        "This code snippet first creates a simulator backend, which is a software program that simulates the behavior of a quantum computer. The Qiskit Aer library provides various simulator backends, each with different capabilities and performance characteristics. In this case, the 'qasm_simulator' backend is used, which is a high-performance simulator that can simulate a wide range of quantum circuits.\n",
        "\n",
        "The code then executes the quantum circuit on the simulator backend, generating a single sample of measurement results. Each sample represents a possible outcome of the quantum circuit, and the 'shots' parameter specifies the number of samples to generate. In this case, only one sample is generated.\n",
        "\n",
        "Finally, the code extracts the measurement counts from the simulation result and prints them to the console. The measurement counts represent the frequency of different measurement outcomes observed during the simulation. Analyzing these counts provides insights into the behavior of the quantum circuit and the encoded secret number.\n"
      ],
      "metadata": {
        "id": "uxVbwJ8e2lGl"
      }
    }
  ]
}